{
 "cells": [
  {
   "cell_type": "code",
   "execution_count": 1,
   "id": "62257e4d-4b28-4e41-80c2-eb7e5303aa16",
   "metadata": {},
   "outputs": [],
   "source": [
    "import numpy as np\n",
    "import pandas as pd"
   ]
  },
  {
   "cell_type": "code",
   "execution_count": 2,
   "id": "8cd65ac0-3095-4703-9170-035894cdb5c9",
   "metadata": {},
   "outputs": [],
   "source": [
    "# Read in the xvg files and store them as numpy arrays\n",
    "data1 = np.loadtxt('DMPC_OPLSAA_head.xvg', comments=['@', '#'])\n",
    "data2 = np.loadtxt('DMPC_OPLSAA_tail.xvg', comments=['@', '#'], usecols=[-1])\n",
    "data3 = np.loadtxt('DMPC_OPLSAA_H2O.xvg', comments=['@', '#'], usecols=[-1])\n",
    "data4 = np.loadtxt('DMPC_OPLSAA_H3O.xvg', comments=['@', '#'], usecols=[-1])\n",
    "\n",
    "\n",
    "# Concatenate the columns of the three data sets\n",
    "concatenated_data = np.concatenate((data1, data2[:, None], data3[:, None], data4[:, None]), axis=1)\n",
    "\n",
    "# Convert the concatenated data to a pandas dataframe\n",
    "df = pd.DataFrame(concatenated_data)\n",
    "\n",
    "# Write the exact columns names\n",
    "df.columns = [\"Z[nm]\", \"Heads\", \"Tails\", \"H2O\", \"H3O\"]"
   ]
  },
  {
   "cell_type": "code",
   "execution_count": 3,
   "id": "43a65232-0e43-4c87-94c7-87130d5be116",
   "metadata": {},
   "outputs": [],
   "source": [
    "# Write the concatenated data to a text file\n",
    "df.to_csv('density_profiles.csv', sep=',', index=False)"
   ]
  }
 ],
 "metadata": {
  "kernelspec": {
   "display_name": "Python 3 (ipykernel)",
   "language": "python",
   "name": "python3"
  },
  "language_info": {
   "codemirror_mode": {
    "name": "ipython",
    "version": 3
   },
   "file_extension": ".py",
   "mimetype": "text/x-python",
   "name": "python",
   "nbconvert_exporter": "python",
   "pygments_lexer": "ipython3",
   "version": "3.9.12"
  }
 },
 "nbformat": 4,
 "nbformat_minor": 5
}
